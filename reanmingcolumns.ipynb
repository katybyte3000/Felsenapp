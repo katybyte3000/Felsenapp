{
 "cells": [
  {
   "cell_type": "code",
   "execution_count": null,
   "id": "caf6b310",
   "metadata": {},
   "outputs": [
    {
     "name": "stdout",
     "output_type": "stream",
     "text": [
      "   peak_id      gipfel        lat        lon  hoehe  region_id\n",
      "0        1  Gipfel_001  50.872078  14.159022     12          2\n",
      "1        2  Gipfel_002  50.872155  14.088251     16          1\n",
      "2        3  Gipfel_003  50.989062  14.192166      7          2\n",
      "3        4  Gipfel_004  50.879613  14.178765     14          4\n",
      "4        5  Gipfel_005  50.951212  14.107111     33          2\n"
     ]
    }
   ],
   "source": [
    "import pandas as pd\n",
    "import csv  # Wird nur gebraucht, wenn du direkt mit dem csv-Modul arbeitest (nicht nötig für pandas)\n",
    "\n",
    "# Lade peaks.csv\n",
    "peaks = pd.read_csv('peaks.csv')  # peaks.csv enthält z. B. Spalten wie name, gebiet, höhe, ...\n",
    "\n",
    "# Lade region.csv\n",
    "region_df = pd.read_csv('region.csv')  # enthält: region_id, region_name\n",
    "\n",
    "# Erstelle Mapping von region_name → region_id\n",
    "region_map = dict(zip(region_df['region_name'], region_df['region_id']))\n",
    "\n",
    "# Wende das Mapping auf die gebiet-Spalte in peaks an\n",
    "peaks['region_id'] = peaks['gebiet'].map(region_map)\n",
    "\n",
    "# Optional: entferne die ursprüngliche gebiet-Spalte\n",
    "peaks.drop(columns=['gebiet'], inplace=True)\n",
    "\n",
    "# Ergebnis speichern oder anzeigen\n",
    "print(peaks.head())\n",
    "# peaks.to_csv('peaks_mit_region_id.csv', index=False)\n",
    "\n"
   ]
  },
  {
   "cell_type": "code",
   "execution_count": 2,
   "id": "98572cce",
   "metadata": {},
   "outputs": [],
   "source": [
    "\n",
    "peaks.to_csv('peaks_mit_region_id.csv', index=False)"
   ]
  }
 ],
 "metadata": {
  "kernelspec": {
   "display_name": "base",
   "language": "python",
   "name": "python3"
  },
  "language_info": {
   "codemirror_mode": {
    "name": "ipython",
    "version": 3
   },
   "file_extension": ".py",
   "mimetype": "text/x-python",
   "name": "python",
   "nbconvert_exporter": "python",
   "pygments_lexer": "ipython3",
   "version": "3.12.7"
  }
 },
 "nbformat": 4,
 "nbformat_minor": 5
}
